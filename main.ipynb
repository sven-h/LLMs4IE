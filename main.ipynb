{
 "cells": [
  {
   "cell_type": "markdown",
   "metadata": {},
   "source": [
    "## Towards Large Language Models Interacting with Knowledge Graphs Via Function Calling\n",
    "\n",
    "Abstract:\n",
    "\n",
    "This position paper introduces a new way for large language models (LLMs) to interact with Knowledge Graphs (KGs), especially for information extraction.\n",
    "Most relation extraction approaches focus on finding the corresponding textual spans for subject, relation, and object in a text but ignore the actual state of the KG and the schema defined therein. In this work, the function-calling possibility of LLMs is explored to search for already defined entities in the KG and add information in the form of triples to the KG. A huge improvement over previous techniques is that it can also deal with various large ontologies / KGs and that the added information fits to a provided KG on a schema and instance level. Further validation checks can be added to increase the quality of the extracted statements. A small playground is provided to analyze the effectiveness of the approach.\n",
    "\n",
    "In this notebook we provide a small playground to try thing out.\n",
    "\n",
    "First setup everything:"
   ]
  },
  {
   "cell_type": "code",
   "execution_count": null,
   "metadata": {},
   "outputs": [],
   "source": [
    "!git clone https://github.com/sven-h/LLMs4IE.git\n",
    "!mv LLMs4IE/* .\n",
    "!rm -r LLMs4IE"
   ]
  },
  {
   "cell_type": "code",
   "execution_count": null,
   "metadata": {},
   "outputs": [],
   "source": [
    "!pip install -r requirements.txt"
   ]
  },
  {
   "cell_type": "code",
   "execution_count": null,
   "metadata": {},
   "outputs": [],
   "source": [
    "# provide your OpenAI API key\n",
    "import os\n",
    "os.environ[\"OPENAI_API_KEY\"] = \"\""
   ]
  },
  {
   "cell_type": "code",
   "execution_count": 1,
   "metadata": {},
   "outputs": [
    {
     "name": "stderr",
     "output_type": "stream",
     "text": [
      "c:\\Users\\shert\\anaconda3\\envs\\myenv\\Lib\\site-packages\\langchain_core\\_api\\beta_decorator.py:87: LangChainBetaWarning: The function `loads` is in beta. It is actively being worked on, so the API may change.\n",
      "  warn_beta(\n"
     ]
    },
    {
     "name": "stdout",
     "output_type": "stream",
     "text": [
      "\n",
      "\n",
      "\u001b[1m> Entering new AgentExecutor chain...\u001b[0m\n",
      "\u001b[32;1m\u001b[1;3m\n",
      "Invoking: `search_property` with `{'search_text': 'capital'}`\n",
      "\n",
      "\n",
      "\u001b[0m\u001b[38;5;200m\u001b[1;3mproperty_id,label,comment,domain_label,range_label\n",
      "\u001b[0m\u001b[32;1m\u001b[1;3m\n",
      "Invoking: `create_property` with `{'comment': 'The property that represents the capital of a country.', 'domain': 'Country', 'label': 'capital', 'range': 'City'}`\n",
      "\n",
      "\n",
      "\u001b[0m\u001b[36;1m\u001b[1;3mThe domain of the property (which should be a class) does not exist in the graph. Search for it with function search_class. If it cannot be found, create it with create_class function and use the URI.\u001b[0m\u001b[32;1m\u001b[1;3m\n",
      "Invoking: `search_class` with `{'search_text': 'Country'}`\n",
      "\n",
      "\n",
      "\u001b[0m\u001b[36;1m\u001b[1;3mclass_id,label,comment\n",
      "\u001b[0m\u001b[32;1m\u001b[1;3m\n",
      "Invoking: `create_class` with `{'comment': 'A class representing a country.', 'label': 'Country'}`\n",
      "\n",
      "\n",
      "\u001b[0m\u001b[33;1m\u001b[1;3mhttp://myKB.org/C3122976628735170500\u001b[0m\u001b[32;1m\u001b[1;3m\n",
      "Invoking: `create_property` with `{'comment': 'The property that represents the capital of a country.', 'domain': 'http://myKB.org/C3122976628735170500', 'label': 'capital', 'range': 'City'}`\n",
      "\n",
      "\n",
      "\u001b[0m\u001b[36;1m\u001b[1;3mThe range of the property (which should be a class) does not exist in the graph. Search for it with function search_class. If it cannot be found, create it with create_class function and use the URI.\u001b[0m\u001b[32;1m\u001b[1;3m\n",
      "Invoking: `search_class` with `{'search_text': 'City'}`\n",
      "\n",
      "\n",
      "\u001b[0m\u001b[36;1m\u001b[1;3mclass_id,label,comment\n",
      "\u001b[0m\u001b[32;1m\u001b[1;3m\n",
      "Invoking: `create_class` with `{'comment': 'A class representing a city.', 'label': 'City'}`\n",
      "\n",
      "\n",
      "\u001b[0m\u001b[33;1m\u001b[1;3mhttp://myKB.org/C3436143458968470582\u001b[0m\u001b[32;1m\u001b[1;3m\n",
      "Invoking: `search_instance` with `{'search_text': 'France'}`\n",
      "\n",
      "\n",
      "\u001b[0m\u001b[33;1m\u001b[1;3minstance_id,label,comment,type_label\n",
      "\u001b[0m\u001b[32;1m\u001b[1;3m\n",
      "Invoking: `create_instance` with `{'comment': 'The country of France.', 'instance_type': 'http://myKB.org/C3122976628735170500', 'label': 'France'}`\n",
      "\n",
      "\n",
      "\u001b[0m\u001b[38;5;200m\u001b[1;3mhttp://myKB.org/I3358560434636275274\u001b[0m\u001b[32;1m\u001b[1;3m\n",
      "Invoking: `search_instance` with `{'search_text': 'Paris'}`\n",
      "\n",
      "\n",
      "\u001b[0m\u001b[33;1m\u001b[1;3minstance_id,label,comment,type_label\n",
      "\u001b[0m\u001b[32;1m\u001b[1;3m\n",
      "Invoking: `create_instance` with `{'comment': 'The capital city of France.', 'instance_type': 'http://myKB.org/C3436143458968470582', 'label': 'Paris'}`\n",
      "\n",
      "\n",
      "\u001b[0m\u001b[38;5;200m\u001b[1;3mhttp://myKB.org/I5123781352166096466\u001b[0m\u001b[32;1m\u001b[1;3m\n",
      "Invoking: `create_statement` with `{'object': 'http://myKB.org/I5123781352166096466', 'property': 'http://myKB.org/P3130730730730730730', 'subject': 'http://myKB.org/I3358560434636275274'}`\n",
      "\n",
      "\n",
      "\u001b[0m\u001b[36;1m\u001b[1;3mProperty does not exist in the graph. Create it first.\u001b[0m\u001b[32;1m\u001b[1;3m\n",
      "Invoking: `create_property` with `{'comment': 'The property that represents the capital of a country.', 'domain': 'http://myKB.org/C3122976628735170500', 'label': 'capital', 'range': 'http://myKB.org/C3436143458968470582'}`\n",
      "\n",
      "\n",
      "\u001b[0m\u001b[36;1m\u001b[1;3mhttp://myKB.org/P8317186175532565255\u001b[0m\u001b[32;1m\u001b[1;3m\n",
      "Invoking: `create_statement` with `{'object': 'http://myKB.org/I5123781352166096466', 'property': 'http://myKB.org/P8317186175532565255', 'subject': 'http://myKB.org/I3358560434636275274'}`\n",
      "\n",
      "\n",
      "\u001b[0m\u001b[36;1m\u001b[1;3mStatement created.\u001b[0m\u001b[32;1m\u001b[1;3mI have extracted all possible information from the sentence 'The capital of France is Paris' and added it to the knowledge graph. The capital property has been created, and the instances for France and Paris have been added with their respective types. The statement linking France as the country with Paris as its capital has also been created in the knowledge graph.\u001b[0m\n",
      "\n",
      "\u001b[1m> Finished chain.\u001b[0m\n"
     ]
    }
   ],
   "source": [
    "from langchain import hub\n",
    "from langchain_openai import ChatOpenAI\n",
    "from langchain.agents import AgentExecutor, create_openai_functions_agent\n",
    "\n",
    "\n",
    "from KG_Create_Toolkit import KGCreateToolkit\n",
    "from KG_Search_Toolkit import KGSearchToolkit\n",
    "\n",
    "\n",
    "from rdf_graph import RdfGraph\n",
    "model = RdfGraph()\n",
    "#model = RdfGraph(source_file=\"myKB.ttl\") \n",
    "#model = RdfGraph(query_endpoint=\"http://dbpedia.org/sparql\")\n",
    "\n",
    "base_uri = \"http://myKB.org/\"\n",
    "return_full_uri = True\n",
    "use_speaking_names = False\n",
    "query_result_format = \"csv\"\n",
    "\n",
    "tools = []\n",
    "tools.extend(KGCreateToolkit(model=model, base_uri=base_uri, return_full_uri=return_full_uri, use_speaking_names=use_speaking_names).get_tools())\n",
    "tools.extend(KGSearchToolkit(model=model, result_format=query_result_format).get_tools())\n",
    "\n",
    "prompt = hub.pull(\"hwchase17/openai-functions-agent\")\n",
    "llm = ChatOpenAI(model=\"gpt-3.5-turbo\", temperature=0)\n",
    "\n",
    "agent = create_openai_functions_agent(llm, tools, prompt)\n",
    "\n",
    "agent_executor = AgentExecutor(agent=agent, tools=tools, verbose=True)\n",
    "\n",
    "#import json\n",
    "#from langchain_core.utils.function_calling import convert_to_openai_tool\n",
    "#for tool in tools:\n",
    "#    print(json.dumps(convert_to_openai_tool(tool), indent=2))\n",
    "#    print(\"------------------------------------\")\n",
    "\n",
    "sentence = \"The capital of France is Paris.\"\n",
    "\n",
    "agent_executor.invoke({\"input\": (\n",
    "    \"Extract all possible information from sentences by searching for instances, properties, and classes.\"\n",
    "    \"In case no corresponding entity is found, create it with the corresponding functions. \"\n",
    "    \"Finally, add a statement to the knowledge graph.\"\n",
    "    \"Before creating a property, search for it with function search_property. \"\n",
    "    \"Extract all possible information from the following sentence: \"\n",
    "    f\"'{sentence}'\")})\n",
    "\n",
    "kb = model.serialize_to_string()"
   ]
  },
  {
   "cell_type": "code",
   "execution_count": 2,
   "metadata": {},
   "outputs": [
    {
     "name": "stdout",
     "output_type": "stream",
     "text": [
      "@prefix ns1: <http://myKB.org/> .\n",
      "@prefix rdf: <http://www.w3.org/1999/02/22-rdf-syntax-ns#> .\n",
      "@prefix rdfs: <http://www.w3.org/2000/01/rdf-schema#> .\n",
      "\n",
      "ns1:C3122976628735170500 a rdfs:Class ;\n",
      "    rdfs:label \"Country\" ;\n",
      "    rdfs:comment \"A class representing a country.\" .\n",
      "\n",
      "ns1:C3436143458968470582 a rdfs:Class ;\n",
      "    rdfs:label \"City\" ;\n",
      "    rdfs:comment \"A class representing a city.\" .\n",
      "\n",
      "ns1:I3358560434636275274 a ns1:C3122976628735170500 ;\n",
      "    rdfs:label \"France\" ;\n",
      "    ns1:P8317186175532565255 ns1:I5123781352166096466 ;\n",
      "    rdfs:comment \"The country of France.\" .\n",
      "\n",
      "ns1:P8317186175532565255 a rdf:Property ;\n",
      "    rdfs:label \"capital\" ;\n",
      "    rdfs:comment \"The property that represents the capital of a country.\" ;\n",
      "    rdfs:domain ns1:C3122976628735170500 ;\n",
      "    rdfs:range ns1:C3436143458968470582 .\n",
      "\n",
      "ns1:I5123781352166096466 a ns1:C3436143458968470582 ;\n",
      "    rdfs:label \"Paris\" ;\n",
      "    rdfs:comment \"The capital city of France.\" .\n",
      "\n",
      "\n"
     ]
    }
   ],
   "source": [
    "# finally print the resulting KG\n",
    "print(kb)"
   ]
  }
 ],
 "metadata": {
  "kernelspec": {
   "display_name": "myenv",
   "language": "python",
   "name": "python3"
  },
  "language_info": {
   "codemirror_mode": {
    "name": "ipython",
    "version": 3
   },
   "file_extension": ".py",
   "mimetype": "text/x-python",
   "name": "python",
   "nbconvert_exporter": "python",
   "pygments_lexer": "ipython3",
   "version": "3.12.4"
  }
 },
 "nbformat": 4,
 "nbformat_minor": 2
}
